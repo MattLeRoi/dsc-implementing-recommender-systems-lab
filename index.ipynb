{
 "cells": [
  {
   "cell_type": "markdown",
   "metadata": {},
   "source": [
    "# Implementing Recommender Systems - Lab\n",
    "\n",
    "## Introduction\n",
    "\n",
    "In this lab, you'll practice creating a recommender system model using `surprise`. You'll also get the chance to create a more complete recommender system pipeline to obtain the top recommendations for a specific user.\n"
   ]
  },
  {
   "cell_type": "markdown",
   "metadata": {},
   "source": [
    "## Objectives\n",
    "\n",
    "In this lab you will: \n",
    "\n",
    "- Use surprise's built-in reader class to process data to work with recommender algorithms \n",
    "- Obtain a prediction for a specific user for a particular item \n",
    "- Introduce a new user with rating to a rating matrix and make recommendations for them \n",
    "- Create a function that will return the top n recommendations for a user \n"
   ]
  },
  {
   "cell_type": "markdown",
   "metadata": {},
   "source": [
    "For this lab, we will be using the famous 1M movie dataset. It contains a collection of user ratings for many different movies. In the last lesson, you were exposed to working with `surprise` datasets. In this lab, you will also go through the process of reading in a dataset into the `surprise` dataset format. To begin with, load the dataset into a Pandas DataFrame. Determine which columns are necessary for your recommendation system and drop any extraneous ones."
   ]
  },
  {
   "cell_type": "code",
   "execution_count": 1,
   "metadata": {},
   "outputs": [
    {
     "name": "stdout",
     "output_type": "stream",
     "text": [
      "<class 'pandas.core.frame.DataFrame'>\n",
      "RangeIndex: 100836 entries, 0 to 100835\n",
      "Data columns (total 4 columns):\n",
      " #   Column     Non-Null Count   Dtype  \n",
      "---  ------     --------------   -----  \n",
      " 0   userId     100836 non-null  int64  \n",
      " 1   movieId    100836 non-null  int64  \n",
      " 2   rating     100836 non-null  float64\n",
      " 3   timestamp  100836 non-null  int64  \n",
      "dtypes: float64(1), int64(3)\n",
      "memory usage: 3.1 MB\n"
     ]
    }
   ],
   "source": [
    "import pandas as pd\n",
    "df = pd.read_csv('./ml-latest-small/ratings.csv')\n",
    "df.info()"
   ]
  },
  {
   "cell_type": "code",
   "execution_count": 59,
   "metadata": {},
   "outputs": [],
   "source": [
    "# Drop unnecessary columns\n",
    "new_df = df.drop('timestamp', axis=1)"
   ]
  },
  {
   "cell_type": "markdown",
   "metadata": {},
   "source": [
    "It's now time to transform the dataset into something compatible with `surprise`. In order to do this, you're going to need `Reader` and `Dataset` classes. There's a method in `Dataset` specifically for loading dataframes."
   ]
  },
  {
   "cell_type": "code",
   "execution_count": 9,
   "metadata": {},
   "outputs": [
    {
     "data": {
      "text/plain": [
       "4.0    26818\n",
       "3.0    20047\n",
       "5.0    13211\n",
       "3.5    13136\n",
       "4.5     8551\n",
       "2.0     7551\n",
       "2.5     5550\n",
       "1.0     2811\n",
       "1.5     1791\n",
       "0.5     1370\n",
       "Name: rating, dtype: int64"
      ]
     },
     "execution_count": 9,
     "metadata": {},
     "output_type": "execute_result"
    }
   ],
   "source": [
    "new_df['rating'].value_counts()"
   ]
  },
  {
   "cell_type": "code",
   "execution_count": 12,
   "metadata": {},
   "outputs": [],
   "source": [
    "from surprise import Reader, Dataset\n",
    "# read in values as Surprise dataset \n",
    "\n",
    "reader = Reader(rating_scale=(0.5, 5))\n",
    "data=Dataset.load_from_df(new_df, reader)\n"
   ]
  },
  {
   "cell_type": "markdown",
   "metadata": {},
   "source": [
    "Let's look at how many users and items we have in our dataset. If using neighborhood-based methods, this will help us determine whether or not we should perform user-user or item-item similarity"
   ]
  },
  {
   "cell_type": "code",
   "execution_count": 13,
   "metadata": {},
   "outputs": [
    {
     "name": "stdout",
     "output_type": "stream",
     "text": [
      "Number of users:  610 \n",
      "\n",
      "Number of items:  9724\n"
     ]
    }
   ],
   "source": [
    "dataset = data.build_full_trainset()\n",
    "print('Number of users: ', dataset.n_users, '\\n')\n",
    "print('Number of items: ', dataset.n_items)"
   ]
  },
  {
   "cell_type": "markdown",
   "metadata": {},
   "source": [
    "## Determine the best model \n",
    "\n",
    "Now, compare the different models and see which ones perform best. For consistency sake, use RMSE to evaluate models. Remember to cross-validate! Can you get a model with a higher average RMSE on test data than 0.869?"
   ]
  },
  {
   "cell_type": "code",
   "execution_count": 14,
   "metadata": {},
   "outputs": [],
   "source": [
    "# importing relevant libraries\n",
    "from surprise.model_selection import cross_validate\n",
    "from surprise.prediction_algorithms import SVD\n",
    "from surprise.prediction_algorithms import KNNWithMeans, KNNBasic, KNNBaseline\n",
    "from surprise.model_selection import GridSearchCV\n",
    "import numpy as np"
   ]
  },
  {
   "cell_type": "code",
   "execution_count": 27,
   "metadata": {},
   "outputs": [
    {
     "name": "stderr",
     "output_type": "stream",
     "text": [
      "[Parallel(n_jobs=-1)]: Using backend LokyBackend with 16 concurrent workers.\n",
      "[Parallel(n_jobs=-1)]: Done  42 out of  60 | elapsed:   14.1s remaining:    6.0s\n",
      "[Parallel(n_jobs=-1)]: Done  55 out of  60 | elapsed:   20.2s remaining:    1.7s\n",
      "[Parallel(n_jobs=-1)]: Done  60 out of  60 | elapsed:   20.6s finished\n"
     ]
    }
   ],
   "source": [
    "## Perform a gridsearch with SVD\n",
    "# ⏰ This cell may take several minutes to run\n",
    "\n",
    "\n",
    "param_grid = {'n_factors':[10,20, 50, 100],\n",
    "              'reg_all': [0.05, 0.4, 0.6]}\n",
    "gs_model = GridSearchCV(SVD,param_grid=param_grid,n_jobs = -1,joblib_verbose=5)\n",
    "gs_model.fit(data)"
   ]
  },
  {
   "cell_type": "code",
   "execution_count": 28,
   "metadata": {},
   "outputs": [
    {
     "name": "stdout",
     "output_type": "stream",
     "text": [
      "{'rmse': 0.8685746764739948, 'mae': 0.6678525656882434}\n",
      "{'rmse': {'n_factors': 50, 'reg_all': 0.05}, 'mae': {'n_factors': 50, 'reg_all': 0.05}}\n"
     ]
    }
   ],
   "source": [
    "# print out optimal parameters for SVD after GridSearch\n",
    "\n",
    "print(gs_model.best_score)\n",
    "print(gs_model.best_params)\n",
    "\n",
    "# {'rmse': 0.8689250510051669, 'mae': 0.6679404366294037}\n",
    "# {'rmse': {'n_factors': 50, 'reg_all': 0.05}, 'mae': {'n_factors': 100, 'reg_all': 0.05}}"
   ]
  },
  {
   "cell_type": "code",
   "execution_count": 36,
   "metadata": {},
   "outputs": [
    {
     "name": "stdout",
     "output_type": "stream",
     "text": [
      "Computing the cosine similarity matrix...\n",
      "Done computing similarity matrix.\n"
     ]
    }
   ],
   "source": [
    "# cross validating with KNNBasic\n",
    "from surprise.model_selection import train_test_split\n",
    "np.int = int  # monkey patch deprecated attribute\n",
    "trainset, testset = train_test_split(data, test_size=0.2)\n",
    "sim_cos = {\"name\": \"cosine\", \"user_based\": False}\n",
    "basic = KNNBasic(sim_options=sim_cos)\n",
    "basic.fit(trainset);\n",
    "\n",
    "# sim_pearson = {\"name\": \"pearson\", \"user_based\": False}\n",
    "# basic_pearson = knns.KNNBasic(sim_options=sim_pearson)"
   ]
  },
  {
   "cell_type": "code",
   "execution_count": 38,
   "metadata": {},
   "outputs": [
    {
     "name": "stdout",
     "output_type": "stream",
     "text": [
      "RMSE: 0.9758\n",
      "0.9758029845802755\n"
     ]
    }
   ],
   "source": [
    "# print out the average RMSE score for the test set\n",
    "from surprise import accuracy\n",
    "predictions = basic.test(testset)\n",
    "print(accuracy.rmse(predictions))\n",
    "\n",
    "# ('test_rmse', array([0.97646619, 0.97270627, 0.97874535, 0.97029184, 0.96776748]))\n",
    "# ('test_mae', array([0.75444119, 0.75251222, 0.7531242 , 0.74938542, 0.75152129]))\n",
    "# ('fit_time', (0.46678805351257324, 0.54010009765625, 0.7059998512268066, 0.5852491855621338, 1.0139541625976562))\n",
    "# ('test_time', (2.308177947998047, 2.4834508895874023, 2.6563329696655273, 2.652374029159546, 1.2219891548156738))"
   ]
  },
  {
   "cell_type": "code",
   "execution_count": 40,
   "metadata": {},
   "outputs": [
    {
     "name": "stdout",
     "output_type": "stream",
     "text": [
      "Computing the pearson similarity matrix...\n",
      "Done computing similarity matrix.\n",
      "RMSE: 0.9684\n",
      "0.968408193810707\n"
     ]
    }
   ],
   "source": [
    "sim_pearson = {\"name\": \"pearson\", \"user_based\": False}\n",
    "basic_pearson = KNNBasic(sim_options=sim_pearson)\n",
    "basic_pearson.fit(trainset)\n",
    "predictions = basic_pearson.test(testset)\n",
    "print(accuracy.rmse(predictions))"
   ]
  },
  {
   "cell_type": "code",
   "execution_count": 41,
   "metadata": {},
   "outputs": [
    {
     "name": "stdout",
     "output_type": "stream",
     "text": [
      "Estimating biases using als...\n",
      "Computing the pearson similarity matrix...\n",
      "Done computing similarity matrix.\n",
      "RMSE: 0.8802\n",
      "0.8802179751934307\n"
     ]
    }
   ],
   "source": [
    "# cross validating with KNNBaseline\n",
    "sim_pearson = {\"name\": \"pearson\", \"user_based\": False}\n",
    "knn_baseline = KNNBaseline(sim_options=sim_pearson)\n",
    "knn_baseline.fit(trainset)\n",
    "predictions = knn_baseline.test(testset)\n",
    "print(accuracy.rmse(predictions))"
   ]
  },
  {
   "cell_type": "code",
   "execution_count": 17,
   "metadata": {},
   "outputs": [
    {
     "name": "stdout",
     "output_type": "stream",
     "text": [
      "('test_rmse', array([0.87268017, 0.88765352, 0.87311917, 0.88706914, 0.87043399]))\n",
      "('test_mae', array([0.66796685, 0.676203  , 0.66790869, 0.67904038, 0.66459155]))\n",
      "('fit_time', (0.6972200870513916, 0.7296440601348877, 0.5842609405517578, 0.609612226486206, 0.61130690574646))\n",
      "('test_time', (1.5466029644012451, 1.567044973373413, 1.6441452503204346, 1.5709199905395508, 1.6216418743133545))\n"
     ]
    },
    {
     "data": {
      "text/plain": [
       "0.8781911983703239"
      ]
     },
     "execution_count": 17,
     "metadata": {},
     "output_type": "execute_result"
    }
   ],
   "source": [
    "# print out the average score for the test set\n",
    "\n",
    "\n",
    "\n",
    "# ('test_rmse', array([0.87268017, 0.88765352, 0.87311917, 0.88706914, 0.87043399]))\n",
    "# ('test_mae', array([0.66796685, 0.676203  , 0.66790869, 0.67904038, 0.66459155]))\n",
    "# ('fit_time', (0.6972200870513916, 0.7296440601348877, 0.5842609405517578, 0.609612226486206, 0.61130690574646))\n",
    "# ('test_time', (1.5466029644012451, 1.567044973373413, 1.6441452503204346, 1.5709199905395508, 1.6216418743133545))"
   ]
  },
  {
   "cell_type": "markdown",
   "metadata": {},
   "source": [
    "Based off these outputs, it seems like the best performing model is the SVD model with `n_factors = 50` and a regularization rate of 0.05. Use that model or if you found one that performs better, feel free to use that to make some predictions."
   ]
  },
  {
   "cell_type": "markdown",
   "metadata": {},
   "source": [
    "## Making Recommendations\n",
    "\n",
    "It's important that the output for the recommendation is interpretable to people. Rather than returning the `movie_id` values, it would be far more valuable to return the actual title of the movie. As a first step, let's read in the movies to a dataframe and take a peek at what information we have about them."
   ]
  },
  {
   "cell_type": "code",
   "execution_count": 42,
   "metadata": {},
   "outputs": [],
   "source": [
    "df_movies = pd.read_csv('./ml-latest-small/movies.csv')"
   ]
  },
  {
   "cell_type": "code",
   "execution_count": 43,
   "metadata": {
    "scrolled": true
   },
   "outputs": [
    {
     "data": {
      "text/html": [
       "<div>\n",
       "<style scoped>\n",
       "    .dataframe tbody tr th:only-of-type {\n",
       "        vertical-align: middle;\n",
       "    }\n",
       "\n",
       "    .dataframe tbody tr th {\n",
       "        vertical-align: top;\n",
       "    }\n",
       "\n",
       "    .dataframe thead th {\n",
       "        text-align: right;\n",
       "    }\n",
       "</style>\n",
       "<table border=\"1\" class=\"dataframe\">\n",
       "  <thead>\n",
       "    <tr style=\"text-align: right;\">\n",
       "      <th></th>\n",
       "      <th>movieId</th>\n",
       "      <th>title</th>\n",
       "      <th>genres</th>\n",
       "    </tr>\n",
       "  </thead>\n",
       "  <tbody>\n",
       "    <tr>\n",
       "      <th>0</th>\n",
       "      <td>1</td>\n",
       "      <td>Toy Story (1995)</td>\n",
       "      <td>Adventure|Animation|Children|Comedy|Fantasy</td>\n",
       "    </tr>\n",
       "    <tr>\n",
       "      <th>1</th>\n",
       "      <td>2</td>\n",
       "      <td>Jumanji (1995)</td>\n",
       "      <td>Adventure|Children|Fantasy</td>\n",
       "    </tr>\n",
       "    <tr>\n",
       "      <th>2</th>\n",
       "      <td>3</td>\n",
       "      <td>Grumpier Old Men (1995)</td>\n",
       "      <td>Comedy|Romance</td>\n",
       "    </tr>\n",
       "    <tr>\n",
       "      <th>3</th>\n",
       "      <td>4</td>\n",
       "      <td>Waiting to Exhale (1995)</td>\n",
       "      <td>Comedy|Drama|Romance</td>\n",
       "    </tr>\n",
       "    <tr>\n",
       "      <th>4</th>\n",
       "      <td>5</td>\n",
       "      <td>Father of the Bride Part II (1995)</td>\n",
       "      <td>Comedy</td>\n",
       "    </tr>\n",
       "  </tbody>\n",
       "</table>\n",
       "</div>"
      ],
      "text/plain": [
       "   movieId                               title  \\\n",
       "0        1                    Toy Story (1995)   \n",
       "1        2                      Jumanji (1995)   \n",
       "2        3             Grumpier Old Men (1995)   \n",
       "3        4            Waiting to Exhale (1995)   \n",
       "4        5  Father of the Bride Part II (1995)   \n",
       "\n",
       "                                        genres  \n",
       "0  Adventure|Animation|Children|Comedy|Fantasy  \n",
       "1                   Adventure|Children|Fantasy  \n",
       "2                               Comedy|Romance  \n",
       "3                         Comedy|Drama|Romance  \n",
       "4                                       Comedy  "
      ]
     },
     "execution_count": 43,
     "metadata": {},
     "output_type": "execute_result"
    }
   ],
   "source": [
    "df_movies.head()"
   ]
  },
  {
   "cell_type": "markdown",
   "metadata": {},
   "source": [
    "## Making simple predictions\n",
    "Just as a reminder, let's look at how you make a prediction for an individual user and item. First, we'll fit the SVD model we had from before."
   ]
  },
  {
   "cell_type": "code",
   "execution_count": 44,
   "metadata": {},
   "outputs": [
    {
     "data": {
      "text/plain": [
       "<surprise.prediction_algorithms.matrix_factorization.SVD at 0x241217484f0>"
      ]
     },
     "execution_count": 44,
     "metadata": {},
     "output_type": "execute_result"
    }
   ],
   "source": [
    "svd = SVD(n_factors= 50, reg_all=0.05)\n",
    "svd.fit(dataset)"
   ]
  },
  {
   "cell_type": "code",
   "execution_count": 45,
   "metadata": {},
   "outputs": [
    {
     "data": {
      "text/plain": [
       "Prediction(uid=2, iid=4, r_ui=None, est=3.0487529529947466, details={'was_impossible': False})"
      ]
     },
     "execution_count": 45,
     "metadata": {},
     "output_type": "execute_result"
    }
   ],
   "source": [
    "svd.predict(2, 4)"
   ]
  },
  {
   "cell_type": "markdown",
   "metadata": {},
   "source": [
    "This prediction value is a tuple and each of the values within it can be accessed by way of indexing. Now let's put our knowledge of recommendation systems to do something interesting: making predictions for a new user!"
   ]
  },
  {
   "cell_type": "markdown",
   "metadata": {},
   "source": [
    "## Obtaining User Ratings \n",
    "\n",
    "It's great that we have working models and everything, but wouldn't it be nice to get to recommendations specifically tailored to your preferences? That's what we'll be doing now. The first step is to create a function that allows us to pick randomly selected movies. The function should present users with a movie and ask them to rate it. If they have not seen the movie, they should be able to skip rating it. \n",
    "\n",
    "The function `movie_rater()` should take as parameters: \n",
    "\n",
    "* `movie_df`: DataFrame - a dataframe containing the movie ids, name of movie, and genres\n",
    "* `num`: int - number of ratings\n",
    "* `genre`: string - a specific genre from which to draw movies\n",
    "\n",
    "The function returns:\n",
    "* rating_list : list - a collection of dictionaries in the format of {'userId': int , 'movieId': int , 'rating': float}\n",
    "\n",
    "#### This function is optional, but fun :) "
   ]
  },
  {
   "cell_type": "code",
   "execution_count": 46,
   "metadata": {},
   "outputs": [],
   "source": [
    "def movie_rater(movie_df,num, genre=None):\n",
    "    pass\n",
    "        "
   ]
  },
  {
   "cell_type": "code",
   "execution_count": 47,
   "metadata": {
    "scrolled": true
   },
   "outputs": [],
   "source": [
    "# try out the new function here!"
   ]
  },
  {
   "cell_type": "markdown",
   "metadata": {},
   "source": [
    "If you're struggling to come up with the above function, you can use this list of user ratings to complete the next segment"
   ]
  },
  {
   "cell_type": "code",
   "execution_count": 124,
   "metadata": {},
   "outputs": [
    {
     "name": "stdout",
     "output_type": "stream",
     "text": [
      "Good Luck Chuck (2007)\n",
      "Simply Irresistible (1999)\n",
      "American Pie 2 (2001)\n",
      "Pinocchio (2002)\n"
     ]
    }
   ],
   "source": [
    "user_rating=[{'userId': 1000, 'movieId': 55245, 'rating': '5'},\n",
    " {'userId': 1000, 'movieId': 2491, 'rating': '4'},\n",
    " {'userId': 1000, 'movieId': 4718, 'rating': '4'},\n",
    " {'userId': 1000, 'movieId': 5990, 'rating': '3'}]\n",
    "print(df_movies['title'][df_movies['movieId']==55245].item())\n",
    "print(df_movies['title'][df_movies['movieId']==2491].item())\n",
    "print(df_movies['title'][df_movies['movieId']==4718].item())\n",
    "print(df_movies['title'][df_movies['movieId']==5990].item())"
   ]
  },
  {
   "cell_type": "markdown",
   "metadata": {},
   "source": [
    "### Making Predictions With the New Ratings\n",
    "Now that you have new ratings, you can use them to make predictions for this new user. The proper way this should work is:\n",
    "\n",
    "* add the new ratings to the original ratings DataFrame, read into a `surprise` dataset \n",
    "* train a model using the new combined DataFrame\n",
    "* make predictions for the user\n",
    "* order those predictions from highest rated to lowest rated\n",
    "* return the top n recommendations with the text of the actual movie (rather than just the index number) "
   ]
  },
  {
   "cell_type": "code",
   "execution_count": 74,
   "metadata": {},
   "outputs": [
    {
     "name": "stdout",
     "output_type": "stream",
     "text": [
      "Number of users:  611 \n",
      "\n",
      "Number of items:  9724\n"
     ]
    }
   ],
   "source": [
    "## add the new ratings to the original ratings DataFrame\n",
    "\n",
    "new_new=new_df.append(user_rating,ignore_index=True)\n",
    "reader = Reader(rating_scale=(0.5, 5))\n",
    "data2=Dataset.load_from_df(new_new, reader)\n",
    "dataset2 = data2.build_full_trainset()\n",
    "print('Number of users: ', dataset2.n_users, '\\n')\n",
    "print('Number of items: ', dataset2.n_items)\n"
   ]
  },
  {
   "cell_type": "code",
   "execution_count": 76,
   "metadata": {},
   "outputs": [
    {
     "name": "stdout",
     "output_type": "stream",
     "text": [
      "RMSE: 0.8670\n",
      "0.8669692303975234\n"
     ]
    }
   ],
   "source": [
    "# train a model using the new combined DataFrame\n",
    "trainset2, testset2 = train_test_split(data2, test_size=0.2)\n",
    "\n",
    "svd = SVD(n_factors=50, reg_all=0.05)\n",
    "svd.fit(trainset2)\n",
    "predictions2 = svd.test(testset2)\n",
    "print(accuracy.rmse(predictions2))"
   ]
  },
  {
   "cell_type": "code",
   "execution_count": 110,
   "metadata": {
    "scrolled": false
   },
   "outputs": [
    {
     "data": {
      "text/plain": [
       "'Toy Story (1995)'"
      ]
     },
     "execution_count": 110,
     "metadata": {},
     "output_type": "execute_result"
    }
   ],
   "source": [
    "df_movies.query(\"movieId == 1\")['title'].item()\n",
    "# df_movies['title'][df_movies['movieId']==1]"
   ]
  },
  {
   "cell_type": "code",
   "execution_count": 115,
   "metadata": {
    "scrolled": true
   },
   "outputs": [],
   "source": [
    "# make predictions for the user\n",
    "# you'll probably want to create a list of tuples in the format (movie_id, predicted_score)\n",
    "recs = []\n",
    "for ii in new_new['movieId'].unique():\n",
    "    recs.append([ii, df_movies['title'][df_movies['movieId']==ii].item(), svd.predict(1000, ii)[3]])\n",
    "\n",
    "recommendations = pd.DataFrame(recs, columns=['movieId','title','rating'])"
   ]
  },
  {
   "cell_type": "code",
   "execution_count": 125,
   "metadata": {},
   "outputs": [
    {
     "data": {
      "text/html": [
       "<div>\n",
       "<style scoped>\n",
       "    .dataframe tbody tr th:only-of-type {\n",
       "        vertical-align: middle;\n",
       "    }\n",
       "\n",
       "    .dataframe tbody tr th {\n",
       "        vertical-align: top;\n",
       "    }\n",
       "\n",
       "    .dataframe thead th {\n",
       "        text-align: right;\n",
       "    }\n",
       "</style>\n",
       "<table border=\"1\" class=\"dataframe\">\n",
       "  <thead>\n",
       "    <tr style=\"text-align: right;\">\n",
       "      <th></th>\n",
       "      <th>movieId</th>\n",
       "      <th>title</th>\n",
       "      <th>rating</th>\n",
       "    </tr>\n",
       "  </thead>\n",
       "  <tbody>\n",
       "    <tr>\n",
       "      <th>1110</th>\n",
       "      <td>1276</td>\n",
       "      <td>Cool Hand Luke (1967)</td>\n",
       "      <td>4.573291</td>\n",
       "    </tr>\n",
       "    <tr>\n",
       "      <th>335</th>\n",
       "      <td>912</td>\n",
       "      <td>Casablanca (1942)</td>\n",
       "      <td>4.524430</td>\n",
       "    </tr>\n",
       "    <tr>\n",
       "      <th>830</th>\n",
       "      <td>922</td>\n",
       "      <td>Sunset Blvd. (a.k.a. Sunset Boulevard) (1950)</td>\n",
       "      <td>4.524305</td>\n",
       "    </tr>\n",
       "    <tr>\n",
       "      <th>232</th>\n",
       "      <td>318</td>\n",
       "      <td>Shawshank Redemption, The (1994)</td>\n",
       "      <td>4.501648</td>\n",
       "    </tr>\n",
       "    <tr>\n",
       "      <th>74</th>\n",
       "      <td>1213</td>\n",
       "      <td>Goodfellas (1990)</td>\n",
       "      <td>4.497424</td>\n",
       "    </tr>\n",
       "    <tr>\n",
       "      <th>332</th>\n",
       "      <td>904</td>\n",
       "      <td>Rear Window (1954)</td>\n",
       "      <td>4.467563</td>\n",
       "    </tr>\n",
       "    <tr>\n",
       "      <th>2144</th>\n",
       "      <td>1262</td>\n",
       "      <td>Great Escape, The (1963)</td>\n",
       "      <td>4.463664</td>\n",
       "    </tr>\n",
       "    <tr>\n",
       "      <th>382</th>\n",
       "      <td>2019</td>\n",
       "      <td>Seven Samurai (Shichinin no samurai) (1954)</td>\n",
       "      <td>4.452845</td>\n",
       "    </tr>\n",
       "    <tr>\n",
       "      <th>722</th>\n",
       "      <td>750</td>\n",
       "      <td>Dr. Strangelove or: How I Learned to Stop Worr...</td>\n",
       "      <td>4.451710</td>\n",
       "    </tr>\n",
       "    <tr>\n",
       "      <th>330</th>\n",
       "      <td>899</td>\n",
       "      <td>Singin' in the Rain (1952)</td>\n",
       "      <td>4.440890</td>\n",
       "    </tr>\n",
       "  </tbody>\n",
       "</table>\n",
       "</div>"
      ],
      "text/plain": [
       "      movieId                                              title    rating\n",
       "1110     1276                              Cool Hand Luke (1967)  4.573291\n",
       "335       912                                  Casablanca (1942)  4.524430\n",
       "830       922      Sunset Blvd. (a.k.a. Sunset Boulevard) (1950)  4.524305\n",
       "232       318                   Shawshank Redemption, The (1994)  4.501648\n",
       "74       1213                                  Goodfellas (1990)  4.497424\n",
       "332       904                                 Rear Window (1954)  4.467563\n",
       "2144     1262                           Great Escape, The (1963)  4.463664\n",
       "382      2019        Seven Samurai (Shichinin no samurai) (1954)  4.452845\n",
       "722       750  Dr. Strangelove or: How I Learned to Stop Worr...  4.451710\n",
       "330       899                         Singin' in the Rain (1952)  4.440890"
      ]
     },
     "execution_count": 125,
     "metadata": {},
     "output_type": "execute_result"
    }
   ],
   "source": [
    "# order the predictions from highest to lowest rated\n",
    "\n",
    "ranked_movies = recommendations.sort_values(by='rating', ascending=False).head(10)\n",
    "ranked_movies"
   ]
  },
  {
   "cell_type": "markdown",
   "metadata": {},
   "source": [
    " For the final component of this challenge, it could be useful to create a function `recommended_movies()` that takes in the parameters:\n",
    "* `user_ratings`: list - list of tuples formulated as (user_id, movie_id) (should be in order of best to worst for this individual)\n",
    "* `movie_title_df`: DataFrame \n",
    "* `n`: int - number of recommended movies \n",
    "\n",
    "The function should use a `for` loop to print out each recommended *n* movies in order from best to worst"
   ]
  },
  {
   "cell_type": "code",
   "execution_count": 130,
   "metadata": {},
   "outputs": [],
   "source": [
    "user_rating2=[{'userId': 1000, 'movieId': 5545, 'rating': '5'},\n",
    " {'userId': 1000, 'movieId': 24491, 'rating': '4'},\n",
    " {'userId': 1000, 'movieId': 418, 'rating': '4'},\n",
    " {'userId': 1000, 'movieId': 5940, 'rating': '3'}]"
   ]
  },
  {
   "cell_type": "code",
   "execution_count": 140,
   "metadata": {},
   "outputs": [
    {
     "data": {
      "text/html": [
       "<div>\n",
       "<style scoped>\n",
       "    .dataframe tbody tr th:only-of-type {\n",
       "        vertical-align: middle;\n",
       "    }\n",
       "\n",
       "    .dataframe tbody tr th {\n",
       "        vertical-align: top;\n",
       "    }\n",
       "\n",
       "    .dataframe thead th {\n",
       "        text-align: right;\n",
       "    }\n",
       "</style>\n",
       "<table border=\"1\" class=\"dataframe\">\n",
       "  <thead>\n",
       "    <tr style=\"text-align: right;\">\n",
       "      <th></th>\n",
       "      <th>movieId</th>\n",
       "      <th>title</th>\n",
       "      <th>rating</th>\n",
       "    </tr>\n",
       "  </thead>\n",
       "  <tbody>\n",
       "    <tr>\n",
       "      <th>277</th>\n",
       "      <td>318</td>\n",
       "      <td>Shawshank Redemption, The (1994)</td>\n",
       "      <td>4.379515</td>\n",
       "    </tr>\n",
       "    <tr>\n",
       "      <th>906</th>\n",
       "      <td>1204</td>\n",
       "      <td>Lawrence of Arabia (1962)</td>\n",
       "      <td>4.360636</td>\n",
       "    </tr>\n",
       "    <tr>\n",
       "      <th>602</th>\n",
       "      <td>750</td>\n",
       "      <td>Dr. Strangelove or: How I Learned to Stop Worr...</td>\n",
       "      <td>4.355597</td>\n",
       "    </tr>\n",
       "    <tr>\n",
       "      <th>841</th>\n",
       "      <td>1104</td>\n",
       "      <td>Streetcar Named Desire, A (1951)</td>\n",
       "      <td>4.295697</td>\n",
       "    </tr>\n",
       "    <tr>\n",
       "      <th>686</th>\n",
       "      <td>904</td>\n",
       "      <td>Rear Window (1954)</td>\n",
       "      <td>4.288654</td>\n",
       "    </tr>\n",
       "    <tr>\n",
       "      <th>2226</th>\n",
       "      <td>2959</td>\n",
       "      <td>Fight Club (1999)</td>\n",
       "      <td>4.274987</td>\n",
       "    </tr>\n",
       "    <tr>\n",
       "      <th>659</th>\n",
       "      <td>858</td>\n",
       "      <td>Godfather, The (1972)</td>\n",
       "      <td>4.273716</td>\n",
       "    </tr>\n",
       "    <tr>\n",
       "      <th>680</th>\n",
       "      <td>898</td>\n",
       "      <td>Philadelphia Story, The (1940)</td>\n",
       "      <td>4.258934</td>\n",
       "    </tr>\n",
       "    <tr>\n",
       "      <th>914</th>\n",
       "      <td>1213</td>\n",
       "      <td>Goodfellas (1990)</td>\n",
       "      <td>4.242569</td>\n",
       "    </tr>\n",
       "    <tr>\n",
       "      <th>2462</th>\n",
       "      <td>3275</td>\n",
       "      <td>Boondock Saints, The (2000)</td>\n",
       "      <td>4.241402</td>\n",
       "    </tr>\n",
       "  </tbody>\n",
       "</table>\n",
       "</div>"
      ],
      "text/plain": [
       "      movieId                                              title    rating\n",
       "277       318                   Shawshank Redemption, The (1994)  4.379515\n",
       "906      1204                          Lawrence of Arabia (1962)  4.360636\n",
       "602       750  Dr. Strangelove or: How I Learned to Stop Worr...  4.355597\n",
       "841      1104                   Streetcar Named Desire, A (1951)  4.295697\n",
       "686       904                                 Rear Window (1954)  4.288654\n",
       "2226     2959                                  Fight Club (1999)  4.274987\n",
       "659       858                              Godfather, The (1972)  4.273716\n",
       "680       898                     Philadelphia Story, The (1940)  4.258934\n",
       "914      1213                                  Goodfellas (1990)  4.242569\n",
       "2462     3275                        Boondock Saints, The (2000)  4.241402"
      ]
     },
     "execution_count": 140,
     "metadata": {},
     "output_type": "execute_result"
    }
   ],
   "source": [
    "# return the top n recommendations using the \n",
    "def recommended_movies(user_ratings,movie_title_df,n):\n",
    "    recs = []\n",
    "    \n",
    "    new_new=new_df.append(user_ratings,ignore_index=True)\n",
    "    reader = Reader(rating_scale=(0.5, 5))\n",
    "    data2=Dataset.load_from_df(new_new, reader)\n",
    "    dataset2 = data2.build_full_trainset()\n",
    "    \n",
    "    svd = SVD(n_factors=50, reg_all=0.05)\n",
    "    svd.fit(dataset2)\n",
    "        \n",
    "    for ii in movie_title_df['movieId'].unique():\n",
    "        recs.append([ii, movie_title_df['title'][movie_title_df['movieId']==ii].item(), svd.predict(1000, ii)[3]])\n",
    "\n",
    "    recommendations = pd.DataFrame(recs, columns=['movieId','title','rating']).sort_values(by='rating', ascending=False).head(n)\n",
    "    return recommendations\n",
    "            \n",
    "recommended_movies([],df_movies,10)"
   ]
  },
  {
   "cell_type": "code",
   "execution_count": 139,
   "metadata": {},
   "outputs": [
    {
     "data": {
      "text/html": [
       "<div>\n",
       "<style scoped>\n",
       "    .dataframe tbody tr th:only-of-type {\n",
       "        vertical-align: middle;\n",
       "    }\n",
       "\n",
       "    .dataframe tbody tr th {\n",
       "        vertical-align: top;\n",
       "    }\n",
       "\n",
       "    .dataframe thead th {\n",
       "        text-align: right;\n",
       "    }\n",
       "</style>\n",
       "<table border=\"1\" class=\"dataframe\">\n",
       "  <thead>\n",
       "    <tr style=\"text-align: right;\">\n",
       "      <th></th>\n",
       "      <th>movieId</th>\n",
       "      <th>title</th>\n",
       "      <th>rating</th>\n",
       "    </tr>\n",
       "  </thead>\n",
       "  <tbody>\n",
       "    <tr>\n",
       "      <th>602</th>\n",
       "      <td>750</td>\n",
       "      <td>Dr. Strangelove or: How I Learned to Stop Worr...</td>\n",
       "      <td>4.972375</td>\n",
       "    </tr>\n",
       "    <tr>\n",
       "      <th>828</th>\n",
       "      <td>1089</td>\n",
       "      <td>Reservoir Dogs (1992)</td>\n",
       "      <td>4.958775</td>\n",
       "    </tr>\n",
       "    <tr>\n",
       "      <th>277</th>\n",
       "      <td>318</td>\n",
       "      <td>Shawshank Redemption, The (1994)</td>\n",
       "      <td>4.941588</td>\n",
       "    </tr>\n",
       "    <tr>\n",
       "      <th>906</th>\n",
       "      <td>1204</td>\n",
       "      <td>Lawrence of Arabia (1962)</td>\n",
       "      <td>4.918786</td>\n",
       "    </tr>\n",
       "    <tr>\n",
       "      <th>210</th>\n",
       "      <td>246</td>\n",
       "      <td>Hoop Dreams (1994)</td>\n",
       "      <td>4.918635</td>\n",
       "    </tr>\n",
       "    <tr>\n",
       "      <th>686</th>\n",
       "      <td>904</td>\n",
       "      <td>Rear Window (1954)</td>\n",
       "      <td>4.870154</td>\n",
       "    </tr>\n",
       "    <tr>\n",
       "      <th>914</th>\n",
       "      <td>1213</td>\n",
       "      <td>Goodfellas (1990)</td>\n",
       "      <td>4.855924</td>\n",
       "    </tr>\n",
       "    <tr>\n",
       "      <th>4165</th>\n",
       "      <td>5995</td>\n",
       "      <td>Pianist, The (2002)</td>\n",
       "      <td>4.842003</td>\n",
       "    </tr>\n",
       "    <tr>\n",
       "      <th>659</th>\n",
       "      <td>858</td>\n",
       "      <td>Godfather, The (1972)</td>\n",
       "      <td>4.832161</td>\n",
       "    </tr>\n",
       "    <tr>\n",
       "      <th>6315</th>\n",
       "      <td>48516</td>\n",
       "      <td>Departed, The (2006)</td>\n",
       "      <td>4.828499</td>\n",
       "    </tr>\n",
       "    <tr>\n",
       "      <th>975</th>\n",
       "      <td>1276</td>\n",
       "      <td>Cool Hand Luke (1967)</td>\n",
       "      <td>4.826383</td>\n",
       "    </tr>\n",
       "    <tr>\n",
       "      <th>696</th>\n",
       "      <td>914</td>\n",
       "      <td>My Fair Lady (1964)</td>\n",
       "      <td>4.826259</td>\n",
       "    </tr>\n",
       "    <tr>\n",
       "      <th>1939</th>\n",
       "      <td>2571</td>\n",
       "      <td>Matrix, The (1999)</td>\n",
       "      <td>4.824477</td>\n",
       "    </tr>\n",
       "    <tr>\n",
       "      <th>510</th>\n",
       "      <td>593</td>\n",
       "      <td>Silence of the Lambs, The (1991)</td>\n",
       "      <td>4.822657</td>\n",
       "    </tr>\n",
       "    <tr>\n",
       "      <th>900</th>\n",
       "      <td>1198</td>\n",
       "      <td>Raiders of the Lost Ark (Indiana Jones and the...</td>\n",
       "      <td>4.814621</td>\n",
       "    </tr>\n",
       "  </tbody>\n",
       "</table>\n",
       "</div>"
      ],
      "text/plain": [
       "      movieId                                              title    rating\n",
       "602       750  Dr. Strangelove or: How I Learned to Stop Worr...  4.972375\n",
       "828      1089                              Reservoir Dogs (1992)  4.958775\n",
       "277       318                   Shawshank Redemption, The (1994)  4.941588\n",
       "906      1204                          Lawrence of Arabia (1962)  4.918786\n",
       "210       246                                 Hoop Dreams (1994)  4.918635\n",
       "686       904                                 Rear Window (1954)  4.870154\n",
       "914      1213                                  Goodfellas (1990)  4.855924\n",
       "4165     5995                                Pianist, The (2002)  4.842003\n",
       "659       858                              Godfather, The (1972)  4.832161\n",
       "6315    48516                               Departed, The (2006)  4.828499\n",
       "975      1276                              Cool Hand Luke (1967)  4.826383\n",
       "696       914                                My Fair Lady (1964)  4.826259\n",
       "1939     2571                                 Matrix, The (1999)  4.824477\n",
       "510       593                   Silence of the Lambs, The (1991)  4.822657\n",
       "900      1198  Raiders of the Lost Ark (Indiana Jones and the...  4.814621"
      ]
     },
     "execution_count": 139,
     "metadata": {},
     "output_type": "execute_result"
    }
   ],
   "source": [
    "user_rating2=[{'userId': 1000, 'movieId': 184791, 'rating': '5'},\n",
    " {'userId': 1000, 'movieId': 185435, 'rating': '5'},\n",
    " {'userId': 1000, 'movieId': 185473, 'rating': '5'},\n",
    " {'userId': 1000, 'movieId': 187593, 'rating': '5'},\n",
    " {'userId': 1000, 'movieId': 188189, 'rating': '5'}] \n",
    "recommended_movies(user_rating2,df_movies,15)\n",
    "# df_movies.tail(50)"
   ]
  },
  {
   "cell_type": "markdown",
   "metadata": {},
   "source": [
    "## Level Up (Optional)\n",
    "\n",
    "* Try and chain all of the steps together into one function that asks users for ratings for a certain number of movies, then all of the above steps are performed to return the top $n$ recommendations\n",
    "* Make a recommender system that only returns items that come from a specified genre"
   ]
  },
  {
   "cell_type": "markdown",
   "metadata": {},
   "source": [
    "## Summary\n",
    "\n",
    "In this lab, you got the chance to implement a collaborative filtering model as well as retrieve recommendations from that model. You also got the opportunity to add your own recommendations to the system to get new recommendations for yourself! Next, you will learn how to use Spark to make recommender systems."
   ]
  }
 ],
 "metadata": {
  "kernelspec": {
   "display_name": "Python 3",
   "language": "python",
   "name": "python3"
  },
  "language_info": {
   "codemirror_mode": {
    "name": "ipython",
    "version": 3
   },
   "file_extension": ".py",
   "mimetype": "text/x-python",
   "name": "python",
   "nbconvert_exporter": "python",
   "pygments_lexer": "ipython3",
   "version": "3.8.5"
  },
  "toc": {
   "base_numbering": 1,
   "nav_menu": {},
   "number_sections": true,
   "sideBar": true,
   "skip_h1_title": false,
   "title_cell": "Table of Contents",
   "title_sidebar": "Contents",
   "toc_cell": false,
   "toc_position": {},
   "toc_section_display": true,
   "toc_window_display": false
  }
 },
 "nbformat": 4,
 "nbformat_minor": 2
}
